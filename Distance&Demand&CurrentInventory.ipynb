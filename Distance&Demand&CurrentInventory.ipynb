{
 "cells": [
  {
   "cell_type": "code",
   "execution_count": 1,
   "metadata": {
    "colab": {
     "base_uri": "https://localhost:8080/",
     "height": 34
    },
    "colab_type": "code",
    "executionInfo": {
     "elapsed": 834,
     "status": "ok",
     "timestamp": 1591519453503,
     "user": {
      "displayName": "­이명훈 / 학생 / 산업공학과",
      "photoUrl": "",
      "userId": "14262820334713560709"
     },
     "user_tz": -540
    },
    "id": "ilTHQdmx242c",
    "outputId": "2bf7c1a8-54b1-44d9-9407-98043f87854c"
   },
   "outputs": [
    {
     "name": "stdout",
     "output_type": "stream",
     "text": [
      "Drive already mounted at /content/drive; to attempt to forcibly remount, call drive.mount(\"/content/drive\", force_remount=True).\n"
     ]
    }
   ],
   "source": [
    "from google.colab import drive\n",
    "drive.mount('/content/drive')"
   ]
  },
  {
   "cell_type": "code",
   "execution_count": 0,
   "metadata": {
    "colab": {},
    "colab_type": "code",
    "id": "TMjleZKTyinZ"
   },
   "outputs": [],
   "source": [
    "import numpy as np\n",
    "import pandas as pd"
   ]
  },
  {
   "cell_type": "markdown",
   "metadata": {
    "colab_type": "text",
    "id": "NBMeDFCD7t-E"
   },
   "source": [
    "## Supplier / Receiver pharmacy list (5/11 기준)"
   ]
  },
  {
   "cell_type": "code",
   "execution_count": 0,
   "metadata": {
    "colab": {},
    "colab_type": "code",
    "id": "7iS8gKS93DW2"
   },
   "outputs": [],
   "source": [
    "# Prediction 없는 특별 처리 대상 약국\n",
    "exceptions = [12862631, 12817589, 11870907, 12866903, 12849634]"
   ]
  },
  {
   "cell_type": "code",
   "execution_count": 0,
   "metadata": {
    "colab": {},
    "colab_type": "code",
    "id": "OxfA5Lvz33V7"
   },
   "outputs": [],
   "source": [
    "PATH1 = './DATA for optimization prob/'"
   ]
  },
  {
   "cell_type": "code",
   "execution_count": 0,
   "metadata": {
    "colab": {},
    "colab_type": "code",
    "id": "iDG1eGnq35tw"
   },
   "outputs": [],
   "source": [
    "with open(PATH1+\"pharmacy_list.txt\", 'r') as f:\n",
    "  pharmacy_list = [int(code[:-1]) for code in f.readlines()]    # 서초구 내 전체 약국\n",
    "\n",
    "with open(PATH1+\"supplier_list.txt\", 'r') as f:\n",
    "  supplier_list = [int(code[:-1]) for code in f.readlines()]    # 5월 11일 14:00 ~ 15:00 PLENTY 약국\n",
    "\n",
    "with open(PATH1+\"receiver_list.txt\", 'r') as f:\n",
    "  receiver_list = [int(code[:-1]) for code in f.readlines()]    # 5월 11일 14:00 ~ 15:00 EMPTY/FEW 약국"
   ]
  },
  {
   "cell_type": "markdown",
   "metadata": {
    "colab_type": "text",
    "id": "9KozrA5x7f27"
   },
   "source": [
    "## 서초구 전체 데이터 for Distance & CurrentInventory"
   ]
  },
  {
   "cell_type": "code",
   "execution_count": 0,
   "metadata": {
    "colab": {},
    "colab_type": "code",
    "id": "6I5eV1DF4BC9"
   },
   "outputs": [],
   "source": [
    "PATH2 = './Data/district_0314-0512/'"
   ]
  },
  {
   "cell_type": "code",
   "execution_count": 0,
   "metadata": {
    "colab": {},
    "colab_type": "code",
    "id": "UO3T0jhIyucg"
   },
   "outputs": [],
   "source": [
    "# 서초구 전체\n",
    "SEOCHO_df = pd.read_csv(PATH2+'서초구_0314-0512.csv', index_col=0, header=0, engine='python', encoding='utf-8-sig')"
   ]
  },
  {
   "cell_type": "code",
   "execution_count": 8,
   "metadata": {
    "colab": {
     "base_uri": "https://localhost:8080/",
     "height": 158
    },
    "colab_type": "code",
    "executionInfo": {
     "elapsed": 29719,
     "status": "ok",
     "timestamp": 1591519488240,
     "user": {
      "displayName": "­이명훈 / 학생 / 산업공학과",
      "photoUrl": "",
      "userId": "14262820334713560709"
     },
     "user_tz": -540
    },
    "id": "a8M_O0Eu5zlV",
    "outputId": "b0e32772-f9ce-4aa6-f925-895a833fe552"
   },
   "outputs": [
    {
     "data": {
      "text/plain": [
       "name             0\n",
       "addr             0\n",
       "latitude         0\n",
       "longitude        0\n",
       "collect_at     128\n",
       "remain_stat    128\n",
       "stock_at       128\n",
       "dtype: int64"
      ]
     },
     "execution_count": 8,
     "metadata": {
      "tags": []
     },
     "output_type": "execute_result"
    }
   ],
   "source": [
    "SEOCHO_df.isna().sum()"
   ]
  },
  {
   "cell_type": "code",
   "execution_count": 0,
   "metadata": {
    "colab": {},
    "colab_type": "code",
    "id": "785dy6gW6DRR"
   },
   "outputs": [],
   "source": [
    "SEOCHO_df.dropna(inplace=True)"
   ]
  },
  {
   "cell_type": "code",
   "execution_count": 0,
   "metadata": {
    "colab": {},
    "colab_type": "code",
    "id": "Zs3gAEZU4t38"
   },
   "outputs": [],
   "source": [
    "SEOCHO_df['collect_at'] = pd.to_datetime(SEOCHO_df['collect_at'])\n",
    "SEOCHO_df['stock_at'] = pd.to_datetime(SEOCHO_df['stock_at'])"
   ]
  },
  {
   "cell_type": "code",
   "execution_count": 0,
   "metadata": {
    "colab": {},
    "colab_type": "code",
    "id": "FPykUrVpz2mT"
   },
   "outputs": [],
   "source": [
    "SEOCHO_df['date'] = SEOCHO_df['collect_at'].dt.date"
   ]
  },
  {
   "cell_type": "code",
   "execution_count": 0,
   "metadata": {
    "colab": {},
    "colab_type": "code",
    "id": "ChV1reA_5FPW"
   },
   "outputs": [],
   "source": [
    "SEOCHO_df.drop(columns=['addr', 'stock_at'], inplace=True)"
   ]
  },
  {
   "cell_type": "code",
   "execution_count": 0,
   "metadata": {
    "colab": {},
    "colab_type": "code",
    "id": "xtI9q5xG5fq-"
   },
   "outputs": [],
   "source": [
    "SEOCHO_df = SEOCHO_df[['name', 'date', 'collect_at', 'remain_stat', 'latitude', 'longitude']]"
   ]
  },
  {
   "cell_type": "code",
   "execution_count": 0,
   "metadata": {
    "colab": {},
    "colab_type": "code",
    "id": "FUktHa7t6eUc"
   },
   "outputs": [],
   "source": [
    "# 5월 11일 서초구 데이터\n",
    "SEOCHO_0511 = SEOCHO_df[SEOCHO_df.date==pd.to_datetime('2020-05-11')]"
   ]
  },
  {
   "cell_type": "code",
   "execution_count": 15,
   "metadata": {
    "colab": {
     "base_uri": "https://localhost:8080/",
     "height": 431
    },
    "colab_type": "code",
    "executionInfo": {
     "elapsed": 30129,
     "status": "ok",
     "timestamp": 1591519492879,
     "user": {
      "displayName": "­이명훈 / 학생 / 산업공학과",
      "photoUrl": "",
      "userId": "14262820334713560709"
     },
     "user_tz": -540
    },
    "id": "ZIfB292c6wIE",
    "outputId": "5d5ef83d-57a3-4e4d-a5ee-3fa82a8f072c"
   },
   "outputs": [
    {
     "data": {
      "text/html": [
       "<div>\n",
       "<style scoped>\n",
       "    .dataframe tbody tr th:only-of-type {\n",
       "        vertical-align: middle;\n",
       "    }\n",
       "\n",
       "    .dataframe tbody tr th {\n",
       "        vertical-align: top;\n",
       "    }\n",
       "\n",
       "    .dataframe thead th {\n",
       "        text-align: right;\n",
       "    }\n",
       "</style>\n",
       "<table border=\"1\" class=\"dataframe\">\n",
       "  <thead>\n",
       "    <tr style=\"text-align: right;\">\n",
       "      <th></th>\n",
       "      <th>name</th>\n",
       "      <th>date</th>\n",
       "      <th>collect_at</th>\n",
       "      <th>remain_stat</th>\n",
       "      <th>latitude</th>\n",
       "      <th>longitude</th>\n",
       "    </tr>\n",
       "    <tr>\n",
       "      <th>code</th>\n",
       "      <th></th>\n",
       "      <th></th>\n",
       "      <th></th>\n",
       "      <th></th>\n",
       "      <th></th>\n",
       "      <th></th>\n",
       "    </tr>\n",
       "  </thead>\n",
       "  <tbody>\n",
       "    <tr>\n",
       "      <th>11800208</th>\n",
       "      <td>서초삼성약국</td>\n",
       "      <td>2020-05-11</td>\n",
       "      <td>2020-05-11 00:00:00</td>\n",
       "      <td>empty</td>\n",
       "      <td>37.495623</td>\n",
       "      <td>127.027107</td>\n",
       "    </tr>\n",
       "    <tr>\n",
       "      <th>11800208</th>\n",
       "      <td>서초삼성약국</td>\n",
       "      <td>2020-05-11</td>\n",
       "      <td>2020-05-11 00:05:00</td>\n",
       "      <td>empty</td>\n",
       "      <td>37.495623</td>\n",
       "      <td>127.027107</td>\n",
       "    </tr>\n",
       "    <tr>\n",
       "      <th>11800208</th>\n",
       "      <td>서초삼성약국</td>\n",
       "      <td>2020-05-11</td>\n",
       "      <td>2020-05-11 00:10:00</td>\n",
       "      <td>empty</td>\n",
       "      <td>37.495623</td>\n",
       "      <td>127.027107</td>\n",
       "    </tr>\n",
       "    <tr>\n",
       "      <th>11800208</th>\n",
       "      <td>서초삼성약국</td>\n",
       "      <td>2020-05-11</td>\n",
       "      <td>2020-05-11 00:15:00</td>\n",
       "      <td>empty</td>\n",
       "      <td>37.495623</td>\n",
       "      <td>127.027107</td>\n",
       "    </tr>\n",
       "    <tr>\n",
       "      <th>11800208</th>\n",
       "      <td>서초삼성약국</td>\n",
       "      <td>2020-05-11</td>\n",
       "      <td>2020-05-11 00:20:00</td>\n",
       "      <td>empty</td>\n",
       "      <td>37.495623</td>\n",
       "      <td>127.027107</td>\n",
       "    </tr>\n",
       "    <tr>\n",
       "      <th>...</th>\n",
       "      <td>...</td>\n",
       "      <td>...</td>\n",
       "      <td>...</td>\n",
       "      <td>...</td>\n",
       "      <td>...</td>\n",
       "      <td>...</td>\n",
       "    </tr>\n",
       "    <tr>\n",
       "      <th>12869414</th>\n",
       "      <td>8층약국</td>\n",
       "      <td>2020-05-11</td>\n",
       "      <td>2020-05-11 23:35:00</td>\n",
       "      <td>empty</td>\n",
       "      <td>37.492993</td>\n",
       "      <td>127.013451</td>\n",
       "    </tr>\n",
       "    <tr>\n",
       "      <th>12869414</th>\n",
       "      <td>8층약국</td>\n",
       "      <td>2020-05-11</td>\n",
       "      <td>2020-05-11 23:40:00</td>\n",
       "      <td>empty</td>\n",
       "      <td>37.492993</td>\n",
       "      <td>127.013451</td>\n",
       "    </tr>\n",
       "    <tr>\n",
       "      <th>12869414</th>\n",
       "      <td>8층약국</td>\n",
       "      <td>2020-05-11</td>\n",
       "      <td>2020-05-11 23:45:00</td>\n",
       "      <td>empty</td>\n",
       "      <td>37.492993</td>\n",
       "      <td>127.013451</td>\n",
       "    </tr>\n",
       "    <tr>\n",
       "      <th>12869414</th>\n",
       "      <td>8층약국</td>\n",
       "      <td>2020-05-11</td>\n",
       "      <td>2020-05-11 23:50:00</td>\n",
       "      <td>empty</td>\n",
       "      <td>37.492993</td>\n",
       "      <td>127.013451</td>\n",
       "    </tr>\n",
       "    <tr>\n",
       "      <th>12869414</th>\n",
       "      <td>8층약국</td>\n",
       "      <td>2020-05-11</td>\n",
       "      <td>2020-05-11 23:55:00</td>\n",
       "      <td>empty</td>\n",
       "      <td>37.492993</td>\n",
       "      <td>127.013451</td>\n",
       "    </tr>\n",
       "  </tbody>\n",
       "</table>\n",
       "<p>59616 rows × 6 columns</p>\n",
       "</div>"
      ],
      "text/plain": [
       "            name        date  ...   latitude   longitude\n",
       "code                          ...                       \n",
       "11800208  서초삼성약국  2020-05-11  ...  37.495623  127.027107\n",
       "11800208  서초삼성약국  2020-05-11  ...  37.495623  127.027107\n",
       "11800208  서초삼성약국  2020-05-11  ...  37.495623  127.027107\n",
       "11800208  서초삼성약국  2020-05-11  ...  37.495623  127.027107\n",
       "11800208  서초삼성약국  2020-05-11  ...  37.495623  127.027107\n",
       "...          ...         ...  ...        ...         ...\n",
       "12869414    8층약국  2020-05-11  ...  37.492993  127.013451\n",
       "12869414    8층약국  2020-05-11  ...  37.492993  127.013451\n",
       "12869414    8층약국  2020-05-11  ...  37.492993  127.013451\n",
       "12869414    8층약국  2020-05-11  ...  37.492993  127.013451\n",
       "12869414    8층약국  2020-05-11  ...  37.492993  127.013451\n",
       "\n",
       "[59616 rows x 6 columns]"
      ]
     },
     "execution_count": 15,
     "metadata": {
      "tags": []
     },
     "output_type": "execute_result"
    }
   ],
   "source": [
    "SEOCHO_0511"
   ]
  },
  {
   "cell_type": "code",
   "execution_count": 16,
   "metadata": {
    "colab": {
     "base_uri": "https://localhost:8080/",
     "height": 431
    },
    "colab_type": "code",
    "executionInfo": {
     "elapsed": 29156,
     "status": "ok",
     "timestamp": 1591519492881,
     "user": {
      "displayName": "­이명훈 / 학생 / 산업공학과",
      "photoUrl": "",
      "userId": "14262820334713560709"
     },
     "user_tz": -540
    },
    "id": "lYt9sEFX3eNp",
    "outputId": "8754a327-482a-4d64-a0ff-ec36c3b653a9"
   },
   "outputs": [
    {
     "data": {
      "text/html": [
       "<div>\n",
       "<style scoped>\n",
       "    .dataframe tbody tr th:only-of-type {\n",
       "        vertical-align: middle;\n",
       "    }\n",
       "\n",
       "    .dataframe tbody tr th {\n",
       "        vertical-align: top;\n",
       "    }\n",
       "\n",
       "    .dataframe thead th {\n",
       "        text-align: right;\n",
       "    }\n",
       "</style>\n",
       "<table border=\"1\" class=\"dataframe\">\n",
       "  <thead>\n",
       "    <tr style=\"text-align: right;\">\n",
       "      <th></th>\n",
       "      <th>name</th>\n",
       "      <th>date</th>\n",
       "      <th>collect_at</th>\n",
       "      <th>remain_stat</th>\n",
       "      <th>latitude</th>\n",
       "      <th>longitude</th>\n",
       "    </tr>\n",
       "    <tr>\n",
       "      <th>code</th>\n",
       "      <th></th>\n",
       "      <th></th>\n",
       "      <th></th>\n",
       "      <th></th>\n",
       "      <th></th>\n",
       "      <th></th>\n",
       "    </tr>\n",
       "  </thead>\n",
       "  <tbody>\n",
       "    <tr>\n",
       "      <th>11800208</th>\n",
       "      <td>서초삼성약국</td>\n",
       "      <td>2020-03-14</td>\n",
       "      <td>2020-03-14 00:00:00</td>\n",
       "      <td>empty</td>\n",
       "      <td>37.495623</td>\n",
       "      <td>127.027107</td>\n",
       "    </tr>\n",
       "    <tr>\n",
       "      <th>11800208</th>\n",
       "      <td>서초삼성약국</td>\n",
       "      <td>2020-03-14</td>\n",
       "      <td>2020-03-14 00:05:00</td>\n",
       "      <td>empty</td>\n",
       "      <td>37.495623</td>\n",
       "      <td>127.027107</td>\n",
       "    </tr>\n",
       "    <tr>\n",
       "      <th>11800208</th>\n",
       "      <td>서초삼성약국</td>\n",
       "      <td>2020-03-14</td>\n",
       "      <td>2020-03-14 00:10:00</td>\n",
       "      <td>empty</td>\n",
       "      <td>37.495623</td>\n",
       "      <td>127.027107</td>\n",
       "    </tr>\n",
       "    <tr>\n",
       "      <th>11800208</th>\n",
       "      <td>서초삼성약국</td>\n",
       "      <td>2020-03-14</td>\n",
       "      <td>2020-03-14 00:15:00</td>\n",
       "      <td>empty</td>\n",
       "      <td>37.495623</td>\n",
       "      <td>127.027107</td>\n",
       "    </tr>\n",
       "    <tr>\n",
       "      <th>11800208</th>\n",
       "      <td>서초삼성약국</td>\n",
       "      <td>2020-03-14</td>\n",
       "      <td>2020-03-14 00:20:00</td>\n",
       "      <td>empty</td>\n",
       "      <td>37.495623</td>\n",
       "      <td>127.027107</td>\n",
       "    </tr>\n",
       "    <tr>\n",
       "      <th>...</th>\n",
       "      <td>...</td>\n",
       "      <td>...</td>\n",
       "      <td>...</td>\n",
       "      <td>...</td>\n",
       "      <td>...</td>\n",
       "      <td>...</td>\n",
       "    </tr>\n",
       "    <tr>\n",
       "      <th>11800208</th>\n",
       "      <td>서초삼성약국</td>\n",
       "      <td>2020-05-11</td>\n",
       "      <td>2020-05-11 23:35:00</td>\n",
       "      <td>break</td>\n",
       "      <td>37.495623</td>\n",
       "      <td>127.027107</td>\n",
       "    </tr>\n",
       "    <tr>\n",
       "      <th>11800208</th>\n",
       "      <td>서초삼성약국</td>\n",
       "      <td>2020-05-11</td>\n",
       "      <td>2020-05-11 23:40:00</td>\n",
       "      <td>break</td>\n",
       "      <td>37.495623</td>\n",
       "      <td>127.027107</td>\n",
       "    </tr>\n",
       "    <tr>\n",
       "      <th>11800208</th>\n",
       "      <td>서초삼성약국</td>\n",
       "      <td>2020-05-11</td>\n",
       "      <td>2020-05-11 23:45:00</td>\n",
       "      <td>break</td>\n",
       "      <td>37.495623</td>\n",
       "      <td>127.027107</td>\n",
       "    </tr>\n",
       "    <tr>\n",
       "      <th>11800208</th>\n",
       "      <td>서초삼성약국</td>\n",
       "      <td>2020-05-11</td>\n",
       "      <td>2020-05-11 23:50:00</td>\n",
       "      <td>break</td>\n",
       "      <td>37.495623</td>\n",
       "      <td>127.027107</td>\n",
       "    </tr>\n",
       "    <tr>\n",
       "      <th>11800208</th>\n",
       "      <td>서초삼성약국</td>\n",
       "      <td>2020-05-11</td>\n",
       "      <td>2020-05-11 23:55:00</td>\n",
       "      <td>break</td>\n",
       "      <td>37.495623</td>\n",
       "      <td>127.027107</td>\n",
       "    </tr>\n",
       "  </tbody>\n",
       "</table>\n",
       "<p>16128 rows × 6 columns</p>\n",
       "</div>"
      ],
      "text/plain": [
       "            name        date  ...   latitude   longitude\n",
       "code                          ...                       \n",
       "11800208  서초삼성약국  2020-03-14  ...  37.495623  127.027107\n",
       "11800208  서초삼성약국  2020-03-14  ...  37.495623  127.027107\n",
       "11800208  서초삼성약국  2020-03-14  ...  37.495623  127.027107\n",
       "11800208  서초삼성약국  2020-03-14  ...  37.495623  127.027107\n",
       "11800208  서초삼성약국  2020-03-14  ...  37.495623  127.027107\n",
       "...          ...         ...  ...        ...         ...\n",
       "11800208  서초삼성약국  2020-05-11  ...  37.495623  127.027107\n",
       "11800208  서초삼성약국  2020-05-11  ...  37.495623  127.027107\n",
       "11800208  서초삼성약국  2020-05-11  ...  37.495623  127.027107\n",
       "11800208  서초삼성약국  2020-05-11  ...  37.495623  127.027107\n",
       "11800208  서초삼성약국  2020-05-11  ...  37.495623  127.027107\n",
       "\n",
       "[16128 rows x 6 columns]"
      ]
     },
     "execution_count": 16,
     "metadata": {
      "tags": []
     },
     "output_type": "execute_result"
    }
   ],
   "source": [
    "SEOCHO_df[SEOCHO_df.index.isin([11800208, 12870510])]"
   ]
  },
  {
   "cell_type": "markdown",
   "metadata": {
    "colab_type": "text",
    "id": "nzXqIOy276O6"
   },
   "source": [
    "## Demand prediction result"
   ]
  },
  {
   "cell_type": "code",
   "execution_count": 0,
   "metadata": {
    "colab": {},
    "colab_type": "code",
    "id": "qKHfmp1Y8VB4"
   },
   "outputs": [],
   "source": [
    "PATH3 = './Data/Demand/Prediction/'"
   ]
  },
  {
   "cell_type": "code",
   "execution_count": 0,
   "metadata": {
    "colab": {},
    "colab_type": "code",
    "id": "onHfu3pK32n7"
   },
   "outputs": [],
   "source": [
    "demand_preds = pd.read_csv(PATH3+'SEOCHO_Demand_Prediction.csv', index_col='code', header=0, engine='python', encoding='utf-8-sig')"
   ]
  },
  {
   "cell_type": "code",
   "execution_count": 0,
   "metadata": {
    "colab": {},
    "colab_type": "code",
    "id": "7tVNJu0w8jZa"
   },
   "outputs": [],
   "source": [
    "demand_preds['date'] = pd.to_datetime(demand_preds['date'])"
   ]
  },
  {
   "cell_type": "code",
   "execution_count": 0,
   "metadata": {
    "colab": {},
    "colab_type": "code",
    "id": "_PNB1N2W8kgU"
   },
   "outputs": [],
   "source": [
    "# 5월 11일 demand predictions\n",
    "demand_preds_0511 = demand_preds[demand_preds.date==pd.to_datetime('2020-05-11')]"
   ]
  },
  {
   "cell_type": "code",
   "execution_count": 24,
   "metadata": {
    "colab": {
     "base_uri": "https://localhost:8080/",
     "height": 431
    },
    "colab_type": "code",
    "executionInfo": {
     "elapsed": 688,
     "status": "ok",
     "timestamp": 1591519560824,
     "user": {
      "displayName": "­이명훈 / 학생 / 산업공학과",
      "photoUrl": "",
      "userId": "14262820334713560709"
     },
     "user_tz": -540
    },
    "id": "DWanX7Vq9KgZ",
    "outputId": "dd611049-ba79-414e-fa17-00e1a6b93886"
   },
   "outputs": [
    {
     "data": {
      "text/html": [
       "<div>\n",
       "<style scoped>\n",
       "    .dataframe tbody tr th:only-of-type {\n",
       "        vertical-align: middle;\n",
       "    }\n",
       "\n",
       "    .dataframe tbody tr th {\n",
       "        vertical-align: top;\n",
       "    }\n",
       "\n",
       "    .dataframe thead th {\n",
       "        text-align: right;\n",
       "    }\n",
       "</style>\n",
       "<table border=\"1\" class=\"dataframe\">\n",
       "  <thead>\n",
       "    <tr style=\"text-align: right;\">\n",
       "      <th></th>\n",
       "      <th>date</th>\n",
       "      <th>rate_pred</th>\n",
       "      <th>demand_pred</th>\n",
       "    </tr>\n",
       "    <tr>\n",
       "      <th>code</th>\n",
       "      <th></th>\n",
       "      <th></th>\n",
       "      <th></th>\n",
       "    </tr>\n",
       "  </thead>\n",
       "  <tbody>\n",
       "    <tr>\n",
       "      <th>12830721</th>\n",
       "      <td>2020-05-11</td>\n",
       "      <td>11.110000</td>\n",
       "      <td>71.309535</td>\n",
       "    </tr>\n",
       "    <tr>\n",
       "      <th>12860417</th>\n",
       "      <td>2020-05-11</td>\n",
       "      <td>25.913333</td>\n",
       "      <td>143.663520</td>\n",
       "    </tr>\n",
       "    <tr>\n",
       "      <th>12848131</th>\n",
       "      <td>2020-05-11</td>\n",
       "      <td>11.110000</td>\n",
       "      <td>54.994500</td>\n",
       "    </tr>\n",
       "    <tr>\n",
       "      <th>12816388</th>\n",
       "      <td>2020-05-11</td>\n",
       "      <td>12.766667</td>\n",
       "      <td>84.821733</td>\n",
       "    </tr>\n",
       "    <tr>\n",
       "      <th>12865028</th>\n",
       "      <td>2020-05-11</td>\n",
       "      <td>11.110000</td>\n",
       "      <td>79.436500</td>\n",
       "    </tr>\n",
       "    <tr>\n",
       "      <th>...</th>\n",
       "      <td>...</td>\n",
       "      <td>...</td>\n",
       "      <td>...</td>\n",
       "    </tr>\n",
       "    <tr>\n",
       "      <th>12816370</th>\n",
       "      <td>2020-05-11</td>\n",
       "      <td>20.555000</td>\n",
       "      <td>146.063830</td>\n",
       "    </tr>\n",
       "    <tr>\n",
       "      <th>11803126</th>\n",
       "      <td>2020-05-11</td>\n",
       "      <td>37.535000</td>\n",
       "      <td>228.738290</td>\n",
       "    </tr>\n",
       "    <tr>\n",
       "      <th>12867063</th>\n",
       "      <td>2020-05-11</td>\n",
       "      <td>69.415000</td>\n",
       "      <td>496.317250</td>\n",
       "    </tr>\n",
       "    <tr>\n",
       "      <th>11882492</th>\n",
       "      <td>2020-05-11</td>\n",
       "      <td>11.110000</td>\n",
       "      <td>62.143785</td>\n",
       "    </tr>\n",
       "    <tr>\n",
       "      <th>11874813</th>\n",
       "      <td>2020-05-11</td>\n",
       "      <td>16.465000</td>\n",
       "      <td>98.073773</td>\n",
       "    </tr>\n",
       "  </tbody>\n",
       "</table>\n",
       "<p>169 rows × 3 columns</p>\n",
       "</div>"
      ],
      "text/plain": [
       "               date  rate_pred  demand_pred\n",
       "code                                       \n",
       "12830721 2020-05-11  11.110000    71.309535\n",
       "12860417 2020-05-11  25.913333   143.663520\n",
       "12848131 2020-05-11  11.110000    54.994500\n",
       "12816388 2020-05-11  12.766667    84.821733\n",
       "12865028 2020-05-11  11.110000    79.436500\n",
       "...             ...        ...          ...\n",
       "12816370 2020-05-11  20.555000   146.063830\n",
       "11803126 2020-05-11  37.535000   228.738290\n",
       "12867063 2020-05-11  69.415000   496.317250\n",
       "11882492 2020-05-11  11.110000    62.143785\n",
       "11874813 2020-05-11  16.465000    98.073773\n",
       "\n",
       "[169 rows x 3 columns]"
      ]
     },
     "execution_count": 24,
     "metadata": {
      "tags": []
     },
     "output_type": "execute_result"
    }
   ],
   "source": [
    "demand_preds_0511"
   ]
  },
  {
   "cell_type": "code",
   "execution_count": 0,
   "metadata": {
    "colab": {},
    "colab_type": "code",
    "id": "vFmbGIK09MHA"
   },
   "outputs": [],
   "source": [
    "# supplier 50개 선정\n",
    "supplier_candidates = demand_preds_0511[demand_preds_0511.index.isin(supplier_list)]"
   ]
  },
  {
   "cell_type": "code",
   "execution_count": 0,
   "metadata": {
    "colab": {},
    "colab_type": "code",
    "id": "5Xg71AhA9ok1"
   },
   "outputs": [],
   "source": [
    "final_suppliers = supplier_candidates.sort_values(by=['rate_pred']).iloc[:50]"
   ]
  },
  {
   "cell_type": "code",
   "execution_count": 42,
   "metadata": {
    "colab": {
     "base_uri": "https://localhost:8080/",
     "height": 34
    },
    "colab_type": "code",
    "executionInfo": {
     "elapsed": 631,
     "status": "ok",
     "timestamp": 1591520121399,
     "user": {
      "displayName": "­이명훈 / 학생 / 산업공학과",
      "photoUrl": "",
      "userId": "14262820334713560709"
     },
     "user_tz": -540
    },
    "id": "8bLiUGgC_Zax",
    "outputId": "ee97af3d-b064-4184-9881-ba03e10158e6"
   },
   "outputs": [
    {
     "data": {
      "text/plain": [
       "50"
      ]
     },
     "execution_count": 42,
     "metadata": {
      "tags": []
     },
     "output_type": "execute_result"
    }
   ],
   "source": [
    "len(final_suppliers)"
   ]
  },
  {
   "cell_type": "code",
   "execution_count": 0,
   "metadata": {
    "colab": {},
    "colab_type": "code",
    "id": "OedA_OLR_fe8"
   },
   "outputs": [],
   "source": [
    "final_supplier_list = list(final_suppliers.index)"
   ]
  },
  {
   "cell_type": "code",
   "execution_count": 0,
   "metadata": {
    "colab": {},
    "colab_type": "code",
    "id": "sRS8NqzHAMdT"
   },
   "outputs": [],
   "source": [
    "receivers = demand_preds_0511[demand_preds_0511.index.isin(receiver_list)]"
   ]
  },
  {
   "cell_type": "code",
   "execution_count": 0,
   "metadata": {
    "colab": {},
    "colab_type": "code",
    "id": "0Iztb9YlATlQ"
   },
   "outputs": [],
   "source": [
    "final_receiver_list = list(receivers.index)"
   ]
  },
  {
   "cell_type": "code",
   "execution_count": 0,
   "metadata": {
    "colab": {},
    "colab_type": "code",
    "id": "RX6jS9BG9wqa"
   },
   "outputs": [],
   "source": [
    "#최종 Demand Rate 예측 값 테이블 생성\n",
    "DEMAND_RATE_SUPPLIERS = final_suppliers['rate_pred']\n",
    "DEMAND_RATE_RECEIVERS = receivers['rate_pred']"
   ]
  },
  {
   "cell_type": "code",
   "execution_count": 0,
   "metadata": {
    "colab": {},
    "colab_type": "code",
    "id": "LAJ8gFea_pAt"
   },
   "outputs": [],
   "source": [
    "DEMAND_RATE_SUPPLIERS.to_csv(PATH1+'DEMAND_RATE_PREDICTION_TABLE_suppliers.csv', encoding='utf-8-sig', index=True)\n",
    "DEMAND_RATE_RECEIVERS.to_csv(PATH1+'DEMAND_RATE_PREDICTION_TABLE_receivers.csv', encoding='utf-8-sig', index=True)\n",
    "\n",
    "with open(PATH1+\"final_supplier_list.txt\", 'w') as output:\n",
    "    for code in final_supplier_list:\n",
    "        output.write(str(code) + '\\n')\n",
    "with open(PATH1+\"final_receiver_list.txt\", 'w') as output:\n",
    "    for code in final_receiver_list:\n",
    "        output.write(str(code) + '\\n')"
   ]
  },
  {
   "cell_type": "markdown",
   "metadata": {
    "colab_type": "text",
    "id": "vQNBeUAYCKeE"
   },
   "source": [
    "## Inventory status TABLE at 14 pm"
   ]
  },
  {
   "cell_type": "code",
   "execution_count": 0,
   "metadata": {
    "colab": {},
    "colab_type": "code",
    "id": "gowI3jY4_qs3"
   },
   "outputs": [],
   "source": [
    "SEOCHO_0511_receivers = SEOCHO_0511[SEOCHO_0511.index.isin(final_receiver_list)]"
   ]
  },
  {
   "cell_type": "code",
   "execution_count": 0,
   "metadata": {
    "colab": {},
    "colab_type": "code",
    "id": "XgNJkkKeCUnA"
   },
   "outputs": [],
   "source": [
    "INVENTORY_receivers = SEOCHO_0511_receivers[(SEOCHO_0511_receivers['collect_at']>='2020-05-11 14:00:00') & (SEOCHO_0511_receivers['collect_at']<='2020-05-11 15:00:00')]"
   ]
  },
  {
   "cell_type": "code",
   "execution_count": 0,
   "metadata": {
    "colab": {},
    "colab_type": "code",
    "id": "1ECPSbc6Dx3I"
   },
   "outputs": [],
   "source": [
    "INVENTORY_receivers = INVENTORY_receivers[INVENTORY_receivers.remain_stat.isin(['empty', 'few'])]"
   ]
  },
  {
   "cell_type": "code",
   "execution_count": 0,
   "metadata": {
    "colab": {},
    "colab_type": "code",
    "id": "SyqQ6XPYFFta"
   },
   "outputs": [],
   "source": [
    "INVENTORY_receivers.drop_duplicates('name', inplace=True)"
   ]
  },
  {
   "cell_type": "code",
   "execution_count": 0,
   "metadata": {
    "colab": {},
    "colab_type": "code",
    "id": "zlfOyBGPCjSo"
   },
   "outputs": [],
   "source": [
    "INVENTORY_receivers = INVENTORY_receivers[['name', 'collect_at', 'remain_stat']]"
   ]
  },
  {
   "cell_type": "code",
   "execution_count": 0,
   "metadata": {
    "colab": {},
    "colab_type": "code",
    "id": "7BLhJHVYDMMP"
   },
   "outputs": [],
   "source": [
    "INVENTORY_receivers['current_inventory'] = CURRENT_INVENTORY_receivers['remain_stat'].apply(lambda x: 0 if x == 'empty' else 15)"
   ]
  },
  {
   "cell_type": "code",
   "execution_count": 0,
   "metadata": {
    "colab": {},
    "colab_type": "code",
    "id": "rbIBVng_GUZR"
   },
   "outputs": [],
   "source": [
    "#최종 Inventory 상태 값 테이블 생성\n",
    "CURRENT_INVENTORY_receivers = INVENTORY_receivers[['name', 'collect_at', 'current_inventory']]\n",
    "CURRENT_INVENTORY_receivers.to_csv(PATH1+'CURRENT_INVENTORY_TABLE_receivers.csv', encoding='utf-8-sig', index=True)"
   ]
  },
  {
   "cell_type": "markdown",
   "metadata": {
    "colab_type": "text",
    "id": "6xTpBjjlHvlU"
   },
   "source": [
    "## Distance Matrix"
   ]
  },
  {
   "cell_type": "code",
   "execution_count": 0,
   "metadata": {
    "colab": {},
    "colab_type": "code",
    "id": "oGc4PPbVGVbw"
   },
   "outputs": [],
   "source": [
    "players_list = final_supplier_list+final_receiver_list"
   ]
  },
  {
   "cell_type": "code",
   "execution_count": 170,
   "metadata": {
    "colab": {
     "base_uri": "https://localhost:8080/",
     "height": 34
    },
    "colab_type": "code",
    "executionInfo": {
     "elapsed": 561,
     "status": "ok",
     "timestamp": 1591524089305,
     "user": {
      "displayName": "­이명훈 / 학생 / 산업공학과",
      "photoUrl": "",
      "userId": "14262820334713560709"
     },
     "user_tz": -540
    },
    "id": "7DnqpltoH4mz",
    "outputId": "78c41678-b60b-493e-cf6f-284b7fd35e71"
   },
   "outputs": [
    {
     "data": {
      "text/plain": [
       "70"
      ]
     },
     "execution_count": 170,
     "metadata": {
      "tags": []
     },
     "output_type": "execute_result"
    }
   ],
   "source": [
    "len(players_list)   # 70 by 70"
   ]
  },
  {
   "cell_type": "code",
   "execution_count": 0,
   "metadata": {
    "colab": {},
    "colab_type": "code",
    "id": "i88BzItVH7KX"
   },
   "outputs": [],
   "source": [
    "players_df = SEOCHO_0511[SEOCHO_0511.index.isin(players_list)]"
   ]
  },
  {
   "cell_type": "code",
   "execution_count": 172,
   "metadata": {
    "colab": {
     "base_uri": "https://localhost:8080/",
     "height": 105
    },
    "colab_type": "code",
    "executionInfo": {
     "elapsed": 862,
     "status": "ok",
     "timestamp": 1591524090574,
     "user": {
      "displayName": "­이명훈 / 학생 / 산업공학과",
      "photoUrl": "",
      "userId": "14262820334713560709"
     },
     "user_tz": -540
    },
    "id": "mUlLFv0pIF1e",
    "outputId": "601326ca-37e8-40e5-b3e8-1ac51bca1a70"
   },
   "outputs": [
    {
     "name": "stderr",
     "output_type": "stream",
     "text": [
      "/usr/local/lib/python3.6/dist-packages/ipykernel_launcher.py:1: SettingWithCopyWarning: \n",
      "A value is trying to be set on a copy of a slice from a DataFrame\n",
      "\n",
      "See the caveats in the documentation: https://pandas.pydata.org/pandas-docs/stable/user_guide/indexing.html#returning-a-view-versus-a-copy\n",
      "  \"\"\"Entry point for launching an IPython kernel.\n"
     ]
    }
   ],
   "source": [
    "players_df.drop_duplicates('name', inplace=True)"
   ]
  },
  {
   "cell_type": "code",
   "execution_count": 174,
   "metadata": {
    "colab": {
     "base_uri": "https://localhost:8080/",
     "height": 122
    },
    "colab_type": "code",
    "executionInfo": {
     "elapsed": 691,
     "status": "ok",
     "timestamp": 1591524101486,
     "user": {
      "displayName": "­이명훈 / 학생 / 산업공학과",
      "photoUrl": "",
      "userId": "14262820334713560709"
     },
     "user_tz": -540
    },
    "id": "ukNs2EC9L06J",
    "outputId": "9b9da55f-b8da-4f5e-91cc-fe6981168a83"
   },
   "outputs": [
    {
     "name": "stderr",
     "output_type": "stream",
     "text": [
      "/usr/local/lib/python3.6/dist-packages/ipykernel_launcher.py:1: SettingWithCopyWarning: \n",
      "A value is trying to be set on a copy of a slice from a DataFrame.\n",
      "Try using .loc[row_indexer,col_indexer] = value instead\n",
      "\n",
      "See the caveats in the documentation: https://pandas.pydata.org/pandas-docs/stable/user_guide/indexing.html#returning-a-view-versus-a-copy\n",
      "  \"\"\"Entry point for launching an IPython kernel.\n"
     ]
    }
   ],
   "source": [
    "players_df['coords'] = players_df.apply(lambda row: (row['latitude'], row['longitude']), axis=1)"
   ]
  },
  {
   "cell_type": "code",
   "execution_count": 0,
   "metadata": {
    "colab": {},
    "colab_type": "code",
    "id": "QsgrIUlcIGw5"
   },
   "outputs": [],
   "source": [
    "players_df = players_df[['latitude', 'longitude', 'coords']]"
   ]
  },
  {
   "cell_type": "code",
   "execution_count": 178,
   "metadata": {
    "colab": {
     "base_uri": "https://localhost:8080/",
     "height": 650
    },
    "colab_type": "code",
    "executionInfo": {
     "elapsed": 692,
     "status": "ok",
     "timestamp": 1591524114555,
     "user": {
      "displayName": "­이명훈 / 학생 / 산업공학과",
      "photoUrl": "",
      "userId": "14262820334713560709"
     },
     "user_tz": -540
    },
    "id": "OCK-ODPxOR8f",
    "outputId": "a0b36b3a-1b59-46eb-843b-6fc10ac86392"
   },
   "outputs": [
    {
     "data": {
      "text/plain": [
       "array([(37.4997906, 127.0231824), (37.4821718, 126.9969232),\n",
       "       (37.4849497, 127.0147775), (37.4828549, 127.008763),\n",
       "       (37.5060987, 127.00341740000002), (37.5071711, 127.02270459999998),\n",
       "       (37.4865092, 127.0209709), (37.4905531, 127.0212546),\n",
       "       (37.4944451, 127.0132771), (37.4968205, 126.9845952),\n",
       "       (37.49383529999999, 126.9832127), (37.50450395, 127.0005993),\n",
       "       (37.4964722, 126.9853016), (37.5075097, 127.0080778),\n",
       "       (37.5066094, 127.0226368), (37.4972231, 127.0262314),\n",
       "       (37.49515770000001, 127.0176552), (37.4944061, 127.0151321),\n",
       "       (37.50440748, 127.0010481), (37.45714870000001, 127.015332),\n",
       "       (37.508788, 127.0035627), (37.4850956, 126.9949469),\n",
       "       (37.5070108, 127.006438), (37.5038061, 127.0241492),\n",
       "       (37.4928604, 127.0141471), (37.4884264, 127.0141123),\n",
       "       (37.4843263, 127.0379729), (37.49476, 127.016321),\n",
       "       (37.5044991, 127.0056986), (37.4870229, 126.9828023),\n",
       "       (37.4904873, 127.0087491), (37.5006686, 127.0032572),\n",
       "       (37.4811196, 126.9983011), (37.4948927, 127.01682859999998),\n",
       "       (37.4808718, 127.0413113), (37.4995532, 127.026354),\n",
       "       (37.5082154, 127.0036767), (37.4932705, 127.0293874),\n",
       "       (37.51440570000001, 127.011511), (37.4640396, 127.0250144),\n",
       "       (37.4710797, 127.03947920000002), (37.4718182, 127.04578159999998),\n",
       "       (37.4937277, 127.0147172), (37.4925885, 127.0292834),\n",
       "       (37.503137, 126.99588500000002), (37.4778415, 127.0003899),\n",
       "       (37.4849144, 127.039029), (37.4682596, 127.0389985),\n",
       "       (37.4879042, 127.0272409), (37.49611229999999, 127.0194059),\n",
       "       (37.5022495, 127.0120029), (37.4914975, 127.0082712),\n",
       "       (37.5034826, 127.024458), (37.4994114, 127.0033334),\n",
       "       (37.5086203, 127.011936), (37.4855763, 127.0162228),\n",
       "       (37.5015073, 126.98881509999998), (37.4873985, 127.0285135),\n",
       "       (37.4934899, 127.0286063), (37.4632288, 127.04353020000002),\n",
       "       (37.49012379999999, 127.0059896), (37.4866165, 127.0044612),\n",
       "       (37.5157646, 127.0192069), (37.5021206, 127.0113916),\n",
       "       (37.4835466, 127.0151108), (37.510431200000006, 127.0100932),\n",
       "       (37.4722051, 127.0407553), (37.4930421, 126.9899521),\n",
       "       (37.50236870000001, 127.0248894), (37.4918747, 127.0137428)],\n",
       "      dtype=object)"
      ]
     },
     "execution_count": 178,
     "metadata": {
      "tags": []
     },
     "output_type": "execute_result"
    }
   ],
   "source": [
    "np.array(players_df['coords'])"
   ]
  },
  {
   "cell_type": "code",
   "execution_count": 0,
   "metadata": {
    "colab": {},
    "colab_type": "code",
    "id": "C_ik7WqvO1Lb"
   },
   "outputs": [],
   "source": [
    "distance_df = pd.DataFrame(index=players_df.index, columns=players_df.index)"
   ]
  },
  {
   "cell_type": "code",
   "execution_count": 182,
   "metadata": {
    "colab": {
     "base_uri": "https://localhost:8080/",
     "height": 1000
    },
    "colab_type": "code",
    "executionInfo": {
     "elapsed": 587,
     "status": "ok",
     "timestamp": 1591524470470,
     "user": {
      "displayName": "­이명훈 / 학생 / 산업공학과",
      "photoUrl": "",
      "userId": "14262820334713560709"
     },
     "user_tz": -540
    },
    "id": "VEsSyLruP_vP",
    "outputId": "bb9f0ce2-f86e-4ec8-d419-fc12e5162bd1"
   },
   "outputs": [
    {
     "data": {
      "text/plain": [
       "[(0, 11803011),\n",
       " (1, 11803126),\n",
       " (2, 11808390),\n",
       " (3, 11822821),\n",
       " (4, 11824719),\n",
       " (5, 11828111),\n",
       " (6, 11848391),\n",
       " (7, 11854031),\n",
       " (8, 11854359),\n",
       " (9, 11854740),\n",
       " (10, 11854855),\n",
       " (11, 11855762),\n",
       " (12, 11855789),\n",
       " (13, 11855924),\n",
       " (14, 11874813),\n",
       " (15, 11878304),\n",
       " (16, 11882492),\n",
       " (17, 11883847),\n",
       " (18, 11884835),\n",
       " (19, 11887982),\n",
       " (20, 12806081),\n",
       " (21, 12808733),\n",
       " (22, 12808946),\n",
       " (23, 12810801),\n",
       " (24, 12811068),\n",
       " (25, 12812170),\n",
       " (26, 12814164),\n",
       " (27, 12816388),\n",
       " (28, 12817732),\n",
       " (29, 12818917),\n",
       " (30, 12822922),\n",
       " (31, 12823210),\n",
       " (32, 12824780),\n",
       " (33, 12824950),\n",
       " (34, 12829871),\n",
       " (35, 12830721),\n",
       " (36, 12830879),\n",
       " (37, 12831905),\n",
       " (38, 12833398),\n",
       " (39, 12833924),\n",
       " (40, 12837962),\n",
       " (41, 12839728),\n",
       " (42, 12841528),\n",
       " (43, 12842664),\n",
       " (44, 12842800),\n",
       " (45, 12844152),\n",
       " (46, 12845345),\n",
       " (47, 12848131),\n",
       " (48, 12850047),\n",
       " (49, 12850713),\n",
       " (50, 12850837),\n",
       " (51, 12851884),\n",
       " (52, 12852848),\n",
       " (53, 12853372),\n",
       " (54, 12854239),\n",
       " (55, 12854450),\n",
       " (56, 12856401),\n",
       " (57, 12857530),\n",
       " (58, 12860191),\n",
       " (59, 12861171),\n",
       " (60, 12861201),\n",
       " (61, 12861405),\n",
       " (62, 12862860),\n",
       " (63, 12863424),\n",
       " (64, 12864242),\n",
       " (65, 12865028),\n",
       " (66, 12866253),\n",
       " (67, 12866962),\n",
       " (68, 12867969),\n",
       " (69, 12868787)]"
      ]
     },
     "execution_count": 182,
     "metadata": {
      "tags": []
     },
     "output_type": "execute_result"
    }
   ],
   "source": [
    "list(enumerate(players_df.index))"
   ]
  },
  {
   "cell_type": "code",
   "execution_count": 0,
   "metadata": {
    "colab": {},
    "colab_type": "code",
    "id": "EToyt3rsKYcU"
   },
   "outputs": [],
   "source": [
    "import geopy\n",
    "def get_distance_matrix(df):\n",
    "  players = list(df.index)\n",
    "  distance_matrix = pd.DataFrame(index=players, columns=players)\n",
    "  coords = np.array(df['coords'])\n",
    "  for num, pharm in enumerate(players):\n",
    "    distance_row = [geopy.distance.distance(coords[num], coords[i]).km for i in range(70)]\n",
    "    distance_matrix.iloc[num] = distance_row\n",
    "  return distance_matrix"
   ]
  },
  {
   "cell_type": "code",
   "execution_count": 0,
   "metadata": {
    "colab": {},
    "colab_type": "code",
    "id": "im59XYBgLHLa"
   },
   "outputs": [],
   "source": [
    "DISTANCE_MATRIX = get_distance_matrix(players_df)"
   ]
  },
  {
   "cell_type": "code",
   "execution_count": 0,
   "metadata": {
    "colab": {},
    "colab_type": "code",
    "id": "9ObfG63JSypr"
   },
   "outputs": [],
   "source": [
    "# 최종 Distance Matrix 저장\n",
    "DISTANCE_MATRIX.to_csv(PATH1+'DISTANCE_MATRIX.csv', encoding='utf-8-sig', index=True)"
   ]
  },
  {
   "cell_type": "code",
   "execution_count": 0,
   "metadata": {
    "colab": {},
    "colab_type": "code",
    "id": "DWCuHIM-TPSS"
   },
   "outputs": [],
   "source": []
  }
 ],
 "metadata": {
  "colab": {
   "authorship_tag": "ABX9TyNfTIxkEJdET6nAeWoQw/WN",
   "mount_file_id": "1USX0GoMebDd6XfpdKhC8L2_3HL8Ifx-0",
   "name": "Distance&Demand&CurrentInventory",
   "provenance": []
  },
  "kernelspec": {
   "display_name": "Python 3",
   "language": "python",
   "name": "python3"
  },
  "language_info": {
   "codemirror_mode": {
    "name": "ipython",
    "version": 3
   },
   "file_extension": ".py",
   "mimetype": "text/x-python",
   "name": "python",
   "nbconvert_exporter": "python",
   "pygments_lexer": "ipython3",
   "version": "3.7.4"
  }
 },
 "nbformat": 4,
 "nbformat_minor": 1
}
